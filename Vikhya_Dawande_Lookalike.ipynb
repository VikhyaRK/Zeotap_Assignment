{
 "cells": [
  {
   "cell_type": "code",
   "execution_count": 1,
   "id": "d49ea7f7",
   "metadata": {},
   "outputs": [],
   "source": [
    "import pandas as pd\n",
    "from sklearn.metrics.pairwise import cosine_similarity\n",
    "from sklearn.preprocessing import StandardScaler"
   ]
  },
  {
   "cell_type": "code",
   "execution_count": 2,
   "id": "836a51d9",
   "metadata": {},
   "outputs": [],
   "source": [
    "customers = pd.read_csv('Customers.csv')\n",
    "products = pd.read_csv('Products.csv')\n",
    "transactions = pd.read_csv('Transactions.csv')"
   ]
  },
  {
   "cell_type": "code",
   "execution_count": 3,
   "id": "154729ed",
   "metadata": {},
   "outputs": [],
   "source": [
    "customers['SignupDate'] = pd.to_datetime(customers['SignupDate'])\n",
    "transactions['TransactionDate'] = pd.to_datetime(transactions['TransactionDate'])"
   ]
  },
  {
   "cell_type": "code",
   "execution_count": 4,
   "id": "ecb7c97d",
   "metadata": {},
   "outputs": [],
   "source": [
    "merged_data = transactions.merge(customers, on='CustomerID', how='left').merge(products, on='ProductID', how='left')"
   ]
  },
  {
   "cell_type": "code",
   "execution_count": 5,
   "id": "2d641dc6",
   "metadata": {},
   "outputs": [],
   "source": [
    "customer_features = merged_data.groupby('CustomerID').agg(\n",
    "    total_spending=('TotalValue', 'sum'),\n",
    "    avg_spending=('TotalValue', 'mean'),\n",
    "    total_quantity=('Quantity', 'sum'),\n",
    "    num_transactions=('TransactionID', 'nunique'),\n",
    "    unique_products=('ProductID', 'nunique'),\n",
    "    most_purchased_category=('Category', lambda x: x.mode()[0] if len(x) > 0 else None)\n",
    ").reset_index()"
   ]
  },
  {
   "cell_type": "code",
   "execution_count": 6,
   "id": "72e5b8a1",
   "metadata": {},
   "outputs": [],
   "source": [
    "customer_features = customer_features.merge(customers[['CustomerID', 'Region']], on='CustomerID', how='left')\n",
    "customer_features = pd.get_dummies(customer_features, columns=['Region', 'most_purchased_category'], drop_first=True)"
   ]
  },
  {
   "cell_type": "code",
   "execution_count": 7,
   "id": "0670b6f5",
   "metadata": {},
   "outputs": [],
   "source": [
    "scaler = StandardScaler()\n",
    "scaled_features = scaler.fit_transform(customer_features.drop(columns=['CustomerID']))"
   ]
  },
  {
   "cell_type": "code",
   "execution_count": 8,
   "id": "fb92cfa5",
   "metadata": {},
   "outputs": [],
   "source": [
    "similarity_matrix = cosine_similarity(scaled_features)"
   ]
  },
  {
   "cell_type": "code",
   "execution_count": 9,
   "id": "0f927cb8",
   "metadata": {},
   "outputs": [],
   "source": [
    "customer_ids = customer_features['CustomerID']\n",
    "lookalike_map = {}"
   ]
  },
  {
   "cell_type": "code",
   "execution_count": 10,
   "id": "104033e8",
   "metadata": {},
   "outputs": [],
   "source": [
    "for idx, cust_id in enumerate(customer_ids[:20]):\n",
    "    similarity_scores = list(enumerate(similarity_matrix[idx]))\n",
    "    similarity_scores = sorted(similarity_scores, key=lambda x: x[1], reverse=True)\n",
    "    top_3 = [(customer_ids[i], score) for i, score in similarity_scores[1:4]]\n",
    "    lookalike_map[cust_id] = top_3"
   ]
  },
  {
   "cell_type": "code",
   "execution_count": 11,
   "id": "b05781e6",
   "metadata": {},
   "outputs": [],
   "source": [
    "lookalike_df = pd.DataFrame([\n",
    "    {'CustomerID': cust_id, 'Lookalikes': lookalikes}\n",
    "    for cust_id, lookalikes in lookalike_map.items()\n",
    "])"
   ]
  },
  {
   "cell_type": "code",
   "execution_count": 12,
   "id": "7e9ed215",
   "metadata": {},
   "outputs": [
    {
     "name": "stdout",
     "output_type": "stream",
     "text": [
      "Lookalike model completed. Output saved as Lookalike.csv.\n"
     ]
    }
   ],
   "source": [
    "lookalike_df['Lookalikes'] = lookalike_df['Lookalikes'].apply(lambda x: str(x))\n",
    "lookalike_df.to_csv('Lookalike.csv', index=False)\n",
    "\n",
    "print(\"Lookalike model completed. Output saved as Lookalike.csv.\")"
   ]
  },
  {
   "cell_type": "code",
   "execution_count": null,
   "id": "2ec54a00",
   "metadata": {},
   "outputs": [],
   "source": []
  }
 ],
 "metadata": {
  "kernelspec": {
   "display_name": "Python 3 (ipykernel)",
   "language": "python",
   "name": "python3"
  },
  "language_info": {
   "codemirror_mode": {
    "name": "ipython",
    "version": 3
   },
   "file_extension": ".py",
   "mimetype": "text/x-python",
   "name": "python",
   "nbconvert_exporter": "python",
   "pygments_lexer": "ipython3",
   "version": "3.10.13"
  }
 },
 "nbformat": 4,
 "nbformat_minor": 5
}
